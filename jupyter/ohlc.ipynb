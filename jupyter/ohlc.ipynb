{
 "cells": [
  {
   "cell_type": "markdown",
   "metadata": {},
   "source": [
    "# hello magnet jupyter\n",
    "アプリケーションを開発する上で、jupyter上で実行するためのサンプルコードを紹介します。\n",
    "\n",
    "# 注意\n",
    "- 本jupyterファイルはサンプル紹介のため、個人の検証用ファイルは別途作成してください。\n",
    "- 検証のため、セキュリティ突破やpandasで利用しやすくするためのユーティリティを紹介していますが、あくまで検証用コードとして利用してください。"
   ]
  },
  {
   "cell_type": "code",
   "execution_count": null,
   "metadata": {},
   "outputs": [],
   "source": [
    "%load_ext autoreload\n",
    "%autoreload 2"
   ]
  },
  {
   "cell_type": "code",
   "execution_count": null,
   "metadata": {},
   "outputs": [],
   "source": [
    "import datetime\n",
    "import pandas as pd\n",
    "import matplotlib.pyplot as plt\n",
    "from pydantic import parse_obj_as\n",
    "from pprint import pprint\n",
    "from magnet import get_db, Linq\n",
    "\n"
   ]
  },
  {
   "cell_type": "code",
   "execution_count": null,
   "metadata": {},
   "outputs": [],
   "source": [
    "def get_ohlc():\n",
    "    for db in get_db():\n",
    "        rep = crud.CryptoOhlcDaily(db=db)\n",
    "        result = [parse_obj_as(schemas.Ohlc, x).dict() for x in rep.query()]\n",
    "        # schemas.Ohlc.from_orm_query_as_dict(rep.query())\n",
    "    return result"
   ]
  },
  {
   "cell_type": "code",
   "execution_count": null,
   "metadata": {
    "scrolled": false
   },
   "outputs": [],
   "source": [
    "from magnet.datastore import crud, schemas\n",
    "\n",
    "result = get_ohlc()\n",
    "# print(schemas.Ohlc.__fields__[\"close_time\"])\n",
    "# print(schemas.Ohlc.from_orm(result))\n",
    "for item in result:\n",
    "    if item[\"t_cross\"] == 0:\n",
    "        item[\"t_cross_golden\"] = None\n",
    "        item[\"t_cross_dead\"] = None\n",
    "    elif item[\"t_cross\"] == 1:\n",
    "        item[\"t_cross_golden\"] = item[\"close_price\"]\n",
    "        item[\"t_cross_dead\"] = None\n",
    "    elif item[\"t_cross\"] == -1:\n",
    "        item[\"t_cross_golden\"] = None\n",
    "        item[\"t_cross_dead\"] = item[\"close_price\"]\n",
    "\n",
    "\n",
    "df = pd.DataFrame(result)[-365:]\n",
    "plt.figure(figsize=(20, 10))\n",
    "plt.grid()\n",
    "\n",
    "plt.plot(df[\"close_time\"], df[\"t_sma_5\"], label=\"sma_5\")\n",
    "plt.plot(df[\"close_time\"], df[\"t_sma_25\"], label=\"sma_25\")\n",
    "plt.plot(df[\"close_time\"], df[\"t_cross_golden\"], marker=\"^\", color=\"red\", label=\"buy\")\n",
    "plt.plot(df[\"close_time\"], df[\"t_cross_dead\"], marker=\"v\", color=\"blue\", label=\"sell\")\n",
    "plt.legend(fontsize=16)\n",
    "plt.show()"
   ]
  },
  {
   "cell_type": "code",
   "execution_count": null,
   "metadata": {},
   "outputs": [],
   "source": [
    "# matplotlib\n",
    "price = [100, 250, 380, 500, 700]\n",
    "number = [1, 2, 3, 4, 5]\n",
    "\n",
    "plt.plot(price, number)\n",
    "plt.title(\"price / number\")\n",
    "plt.xlabel(\"price\")\n",
    "plt.ylabel(\"number\")\n",
    "\n",
    "# 表示する\n",
    "plt.show()"
   ]
  },
  {
   "cell_type": "code",
   "execution_count": null,
   "metadata": {
    "scrolled": true
   },
   "outputs": [],
   "source": [
    "prices = [x for x in map(lambda x: x[\"close_price\"], result)]\n",
    "# print(prices)\n",
    "\n",
    "\n",
    "def calc_recent_sma(arr, min=1, span1=5, span2=25, reverse=False):\n",
    "    result1 = 0\n",
    "    result2 = 0\n",
    "    \n",
    "    for index in range(span1):\n",
    "        result1 += arr[index]\n",
    "        \n",
    "    for index in range(span2):\n",
    "        result2 += arr[index]\n",
    "    \n",
    "    return result1 / span1, result2 / span2\n",
    "\n",
    "def calc_target_price(arr, min=1, span1=5, span2=25, reverse=False):\n",
    "    calc_arr = arr[:25]\n",
    "    \n",
    "    sma_5, sma_25 = calc_recent_sma(prices)\n",
    "\n",
    "sma_5, sma_25 = calc_recent_sma(prices)\n",
    "print(f\"{sma_5}, {sma_25}\")"
   ]
  },
  {
   "cell_type": "code",
   "execution_count": null,
   "metadata": {},
   "outputs": [],
   "source": [
    "\n",
    "# def func(**kwargs):\n",
    "#     print(kwargs)\n",
    "\n",
    "def func(from):\n",
    "print(kwargs)\n",
    "\n",
    "dic1 = {\"from\": \"bob\", \"age\": 20}\n",
    "# dic2 = {\"name\": \"mary\"}\n",
    "\n",
    "func(**dic1)\n"
   ]
  },
  {
   "cell_type": "code",
   "execution_count": null,
   "metadata": {},
   "outputs": [],
   "source": [
    "dic1 = {\"name\": \"bob\", \"age\": 20}\n",
    "dic2 = {\"name\": \"mary\"}\n",
    "\n",
    "\n",
    "dic1.get\n",
    "\n",
    "def func(name, age, **kwargs):\n",
    "    print(f\"{name}: {age}\")\n",
    "\n",
    "\n",
    "func(**dic1, **dic2)"
   ]
  },
  {
   "cell_type": "code",
   "execution_count": null,
   "metadata": {},
   "outputs": [],
   "source": [
    "!pip install pydantic"
   ]
  },
  {
   "cell_type": "code",
   "execution_count": null,
   "metadata": {},
   "outputs": [],
   "source": [
    "from fastapi.encoders import jsonable_encoder\n",
    "import datetime\n",
    "import json\n",
    "from pydantic import BaseModel, parse_obj_as, validator\n",
    "\n",
    "class A(BaseModel):\n",
    "    name: str\n",
    "    dt: datetime.datetime\n",
    "        \n",
    "    @validator(\"dt\")\n",
    "    def valid_entry(cls, v, values, **kwargs):\n",
    "        print(v)\n",
    "        print(values)\n",
    "        print(kwargs)\n",
    "        return v\n",
    "\n",
    "        \n",
    "\n",
    "decoded = A(dt=datetime.datetime.now(), name=\"test\")\n",
    "decoded\n",
    "\n",
    "print(None==0)"
   ]
  },
  {
   "cell_type": "code",
   "execution_count": null,
   "metadata": {},
   "outputs": [],
   "source": [
    "from typing import Union\n",
    "from pydantic import BaseModel, version\n",
    "\n",
    "print(version.version_info())\n",
    "\n",
    "class A(BaseModel):\n",
    "    name: str = \"test\"\n",
    "\n",
    "\n",
    "obj = A()\n",
    "obj = {\"name\": \"test\"}\n",
    "getattr(obj, \"name\")\n",
    "    \n"
   ]
  },
  {
   "cell_type": "code",
   "execution_count": null,
   "metadata": {},
   "outputs": [],
   "source": [
    "# a = {\"name\": \"test\", \"parent\": \"mary\"}\n",
    "# # b = {\"name\": \"bob\", \"age\": 20}\n",
    "\n",
    "# b = a.copy()\n",
    "\n",
    "# b[\"name\"] = \"mary\"\n",
    "\n",
    "# print(a)\n",
    "# print(b)\n",
    "\n",
    "import inspect\n",
    "\n",
    "a = \"a\"\n",
    "# inspect.getmembers(a)\n",
    "\n",
    "a += \"test\"\n",
    "\n",
    "print(a)"
   ]
  },
  {
   "cell_type": "code",
   "execution_count": null,
   "metadata": {},
   "outputs": [],
   "source": [
    "src = {\"name\": \"bob\", \"age\": 20, \"nest\": {\"name\": \"mary\", \"age\": 30}}\n",
    "\n",
    "# 方法１（シャローコピー）\n",
    "# copyメソッドと同様。copyメソッドを利用しましょう。\n",
    "copy1 = dict(**src)\n",
    "\n",
    "# 方法２（シャローコピー）\n",
    "# copyメソッドと同様。copyメソッドを利用しましょう。\n",
    "copy1 = dict(src)\n",
    "\n",
    "# 方法３（シャローコピー）\n",
    "copy1 = src.copy()\n",
    "\n",
    "# 方法４（ディープコピー）\n",
    "import copy\n",
    "copy2 = copy.deepcopy(src)\n",
    "\n",
    "# 結果確認\n",
    "print(src)\n",
    "# => {\"name\": \"bob\", \"age\": 20, \"nest\": {\"name\": \"mary\", \"age\": 30}}\n",
    "\n",
    "copy1[\"age\"] += 5\n",
    "copy1[\"nest\"][\"age\"] += 100\n",
    "print(src)\n",
    "# => {\"name\": \"bob\", \"age\": 20, \"nest\": {\"name\": \"mary\", \"age\": 130}}\n",
    "\n",
    "print(copy1)\n",
    "# => {\"name\": \"bob\", \"age\": 25, \"nest\": {\"name\": \"mary\", \"age\": 130}}\n",
    "\n",
    "copy2[\"nest\"][\"age\"] -= 30\n",
    "print(src)\n",
    "# => {\"name\": \"bob\", \"age\": 20, \"nest\": {\"name\": \"mary\", \"age\": 130}}\n",
    "\n",
    "print(copy2)\n",
    "# => {\"name\": \"bob\", \"age\": 20, \"nest\": {\"name\": \"mary\", \"age\": 0}}"
   ]
  },
  {
   "cell_type": "code",
   "execution_count": null,
   "metadata": {},
   "outputs": [],
   "source": [
    "a = dict(name=\"test\", age=20)\n",
    "\n",
    "dict(name=\"val1\", key2=\"val2\", **a)"
   ]
  },
  {
   "cell_type": "code",
   "execution_count": null,
   "metadata": {},
   "outputs": [],
   "source": [
    "from dataclasses import dataclass\n",
    "from pydantic import BaseModel\n",
    "\n",
    "# @dataclass\n",
    "class Parent(BaseModel):\n",
    "    name: str\n",
    "    age: int = 0\n",
    "\n",
    "# @dataclass\n",
    "class Child(BaseModel):\n",
    "    name: str\n",
    "    age: int = 0\n",
    "    parent: User = User(name=\"parent\", age=40)\n",
    "\n",
    "        \n",
    "a = Child(name=\"child\", age=20)\n",
    "b = Child(name=\"child\", age=20)\n",
    "\n",
    "print(id(a.parent) == id(b.parent))\n"
   ]
  },
  {
   "cell_type": "code",
   "execution_count": null,
   "metadata": {},
   "outputs": [],
   "source": [
    "g = {}\n",
    "l = {}\n",
    "\n",
    "result = exec(\"\"\"\n",
    "def detect_t_cross(topic):\n",
    "    # サイン検出\n",
    "    if topic[\"ticker\"].t_cross == 0:\n",
    "        return None\n",
    "    elif topic[\"ticker\"].t_cross == 1:\n",
    "        return \"ask\"\n",
    "    elif topic[\"ticker\"].t_cross == -1:\n",
    "        return \"bid\"\n",
    "    else:\n",
    "        raise Exception()\n",
    "\"\"\", g, l)\n",
    "print(l)"
   ]
  },
  {
   "cell_type": "code",
   "execution_count": null,
   "metadata": {},
   "outputs": [],
   "source": [
    "import json\n",
    "\n",
    "s = \"\"\"\n",
    "{\n",
    "  \"obj1\": {\n",
    "    \"name\": \"bob\",\n",
    "    \"age\": 20\n",
    "  },\n",
    "  \"obj2\": {\n",
    "    \"name\": \"mary\",\n",
    "    \"age\": 30\n",
    "  }\n",
    "}\n",
    "\"\"\"\n",
    "\n",
    "dic = json.loads(s)\n",
    "\n",
    "# for person_id, person in dic.iteritems():\n",
    "#     print(person_id, person)\n",
    "\n",
    "    \n",
    "dic = {\"name\": \"bob\"}\n",
    "# dic.iteritems()\n",
    "it = dic.items()\n",
    "# it = it.__iter__()\n",
    "\n",
    "# for key, value in it:\n",
    "#     print(1)\n",
    "\n",
    "# for key, value in it:\n",
    "#     print(2)\n",
    "print(it)"
   ]
  },
  {
   "cell_type": "code",
   "execution_count": 10,
   "metadata": {},
   "outputs": [
    {
     "data": {
      "text/plain": [
       "10"
      ]
     },
     "execution_count": 10,
     "metadata": {},
     "output_type": "execute_result"
    }
   ],
   "source": [
    "# class MyDict(dict):\n",
    "#     def __setitem__(self, key, value):\n",
    "#         if key in self:\n",
    "#             raise KeyError(f\"{key} is already exists.\")\n",
    "#         super().__setitem__(key, value)\n",
    "\n",
    "\n",
    "# dic = MyDict({\"a\": 1})\n",
    "# dic[\"a\"] = 3\n",
    "\n",
    "# print(dic)\n",
    "\n",
    "\n",
    "a = {\"b\": 10}\n",
    "a.setdefault(\"b\", 20)\n"
   ]
  },
  {
   "cell_type": "code",
   "execution_count": 174,
   "metadata": {},
   "outputs": [
    {
     "ename": "AttributeError",
     "evalue": "attribute 'tzinfo' of 'datetime.datetime' objects is not writable",
     "output_type": "error",
     "traceback": [
      "\u001b[0;31m---------------------------------------------------------------------------\u001b[0m",
      "\u001b[0;31mAttributeError\u001b[0m                            Traceback (most recent call last)",
      "\u001b[0;32m<ipython-input-174-a145c0b9620a>\u001b[0m in \u001b[0;36m<module>\u001b[0;34m\u001b[0m\n\u001b[1;32m     74\u001b[0m                                      tzinfo=tz)\n\u001b[1;32m     75\u001b[0m \u001b[0;31m# datetime.datetime(2020, 1, 1, 9, 10, 11, 123456, tzinfo=<DstTzInfo 'Asia/Tokyo' LMT+9:19:00 STD>)\u001b[0m\u001b[0;34m\u001b[0m\u001b[0;34m\u001b[0m\u001b[0;34m\u001b[0m\u001b[0m\n\u001b[0;32m---> 76\u001b[0;31m \u001b[0md\u001b[0m\u001b[0;34m.\u001b[0m\u001b[0mtzinfo\u001b[0m \u001b[0;34m=\u001b[0m \u001b[0;32mNone\u001b[0m\u001b[0;34m\u001b[0m\u001b[0;34m\u001b[0m\u001b[0m\n\u001b[0m\u001b[1;32m     77\u001b[0m \u001b[0mtz\u001b[0m\u001b[0;34m.\u001b[0m\u001b[0mlocalize\u001b[0m\u001b[0;34m(\u001b[0m\u001b[0md\u001b[0m\u001b[0;34m)\u001b[0m\u001b[0;34m\u001b[0m\u001b[0;34m\u001b[0m\u001b[0m\n",
      "\u001b[0;31mAttributeError\u001b[0m: attribute 'tzinfo' of 'datetime.datetime' objects is not writable"
     ]
    }
   ],
   "source": [
    "import json\n",
    "import datetime\n",
    "import pytz\n",
    "from pytz import timezone\n",
    "from pydantic import BaseModel, datetime_parse\n",
    "\n",
    "class A(BaseModel):\n",
    "    dt: datetime.datetime = None\n",
    "    d: datetime.date = None\n",
    "#     class Config:\n",
    "#         json_encoders = {\n",
    "#             datetime.datetime: lambda v: v.isoformat(),\n",
    "#             datetime.date: lambda v: datetime.datetime(year=v.year, month=v.month, day=v.day).isoformat(),\n",
    "#         }\n",
    "\n",
    "# '{\"dt\": \"2020-11-17T13:51:35.460441+00:00\", \"d\": \"2020-11-17\"}'\n",
    "# a = A(dt=datetime.datetime.now(tz=datetime.timezone.utc), d=datetime.datetime.now(tz=timezone(\"Asia/Tokyo\")))\n",
    "a = A(dt=datetime.datetime.now(tz=timezone(\"Asia/Tokyo\")))\n",
    "# a = A(dt=datetime.datetime.now(tz=timezone(\"Asia/Tokyo\")), d=datetime.datetime.now(tz=timezone(\"Asia/Tokyo\")))\n",
    "\n",
    "\n",
    "str_json = a.json()\n",
    "str_json\n",
    "# dic = json.loads(str_json)\n",
    "# dic\n",
    "# obj = A(**dic)\n",
    "# obj\n",
    "\n",
    "# d = datetime.datetime.now(tz=datetime.timezone.utc)\n",
    "# d.tzinfo\n",
    "\n",
    "\n",
    "# d = datetime.datetime(year=2000, month=1, day=1, hour=0, tzinfo=timezone(\"Asia/Tokyo\"))\n",
    "# # d.isoformat()\n",
    "# d.astimezone(datetime.timezone.utc)\n",
    "# # d.date()\n",
    "\n",
    "# d = datetime.date.today()\n",
    "# d.tzinfo\n",
    "\n",
    "# def is_aware(d):\n",
    "#     if d.tzinfo is None:\n",
    "#         return False\n",
    "# #     if d.tzinfo.utcoffset(None) is None:\n",
    "# #         return False\n",
    "#     return True\n",
    "\n",
    "# # a = datetime.datetime.now(tz=timezone(\"Asia/Tokyo\"))\n",
    "# a = datetime.datetime.now(tz=datetime.timezone.utc)\n",
    "\n",
    "# a\n",
    "# #is_aware(a)\n",
    "#b = a.tzinfo.utcoffset(datetime.datetime.now())\n",
    "#b = a.tzinfo.utcoffset(None)\n",
    "#print(b)\n",
    "# print(a.tzinfo)\n",
    "\n",
    "\n",
    "# class A(BaseModel):\n",
    "#     # dt: datetime.datetime\n",
    "#     d: datetime.date = None\n",
    "\n",
    "# obj = A(d=d)\n",
    "# obj\n",
    "\n",
    "# '{\"dt\": \"2020-11-17T15:47:37.141113\", \"d\": \"2020-11-18\"}'\n",
    "# datetime_parse.parse_datetime(\"2020-11-17T15:47:37.141113\")\n",
    "# datetime.datetime(year=2020, month=1, day=1, tzinfo=datetime.timezone.utc)\n",
    "# datetime.datetime.now(tz=datetime.timezone.utc)\n",
    "\n",
    "\n",
    "tz = pytz.timezone('Asia/Tokyo')\n",
    "d = datetime.datetime(year=2020, month=1, day=1, hour=9, minute=10, second=11, microsecond=123456,\n",
    "                                     tzinfo=tz)\n",
    "# datetime.datetime(2020, 1, 1, 9, 10, 11, 123456, tzinfo=<DstTzInfo 'Asia/Tokyo' LMT+9:19:00 STD>)\n",
    "d.\n",
    "tz.localize(d)"
   ]
  },
  {
   "cell_type": "code",
   "execution_count": 177,
   "metadata": {},
   "outputs": [
    {
     "data": {
      "text/plain": [
       "False"
      ]
     },
     "execution_count": 177,
     "metadata": {},
     "output_type": "execute_result"
    }
   ],
   "source": [
    "import datetime\n",
    "import pytz\n",
    "\n",
    "tz_utc = pytz.timezone(\"UTC\")\n",
    "tz_tokyo = pytz.timezone(\"Asia/Tokyo\")\n",
    "\n",
    "dt1 = tz_utc.localize(datetime.datetime(2010, 1, 1, tzinfo=))\n",
    "dt2 = datetime.datetime(2010, 1, 1)\n",
    "\n",
    "dt1 == dt2\n"
   ]
  },
  {
   "cell_type": "code",
   "execution_count": 191,
   "metadata": {},
   "outputs": [
    {
     "ename": "ValueError",
     "evalue": "Not naive datetime (tzinfo is already set)",
     "output_type": "error",
     "traceback": [
      "\u001b[0;31m---------------------------------------------------------------------------\u001b[0m",
      "\u001b[0;31mValueError\u001b[0m                                Traceback (most recent call last)",
      "\u001b[0;32m<ipython-input-191-08afbca8eb4e>\u001b[0m in \u001b[0;36m<module>\u001b[0;34m\u001b[0m\n\u001b[1;32m      4\u001b[0m \u001b[0mtokyo\u001b[0m \u001b[0;34m=\u001b[0m \u001b[0mpytz\u001b[0m\u001b[0;34m.\u001b[0m\u001b[0mtimezone\u001b[0m\u001b[0;34m(\u001b[0m\u001b[0;34m\"Asia/Tokyo\"\u001b[0m\u001b[0;34m)\u001b[0m\u001b[0;34m\u001b[0m\u001b[0;34m\u001b[0m\u001b[0m\n\u001b[1;32m      5\u001b[0m \u001b[0mdt\u001b[0m \u001b[0;34m=\u001b[0m \u001b[0mtokyo\u001b[0m\u001b[0;34m.\u001b[0m\u001b[0mlocalize\u001b[0m\u001b[0;34m(\u001b[0m\u001b[0mdatetime\u001b[0m\u001b[0;34m.\u001b[0m\u001b[0mdatetime\u001b[0m\u001b[0;34m(\u001b[0m\u001b[0;36m2010\u001b[0m\u001b[0;34m,\u001b[0m \u001b[0;36m1\u001b[0m\u001b[0;34m,\u001b[0m \u001b[0;36m1\u001b[0m\u001b[0;34m)\u001b[0m\u001b[0;34m)\u001b[0m\u001b[0;34m\u001b[0m\u001b[0;34m\u001b[0m\u001b[0m\n\u001b[0;32m----> 6\u001b[0;31m \u001b[0mdt\u001b[0m \u001b[0;34m=\u001b[0m \u001b[0mpytz\u001b[0m\u001b[0;34m.\u001b[0m\u001b[0mtimezone\u001b[0m\u001b[0;34m(\u001b[0m\u001b[0;34m\"UTC\"\u001b[0m\u001b[0;34m)\u001b[0m\u001b[0;34m.\u001b[0m\u001b[0mlocalize\u001b[0m\u001b[0;34m(\u001b[0m\u001b[0mdt\u001b[0m\u001b[0;34m)\u001b[0m\u001b[0;34m\u001b[0m\u001b[0;34m\u001b[0m\u001b[0m\n\u001b[0m\u001b[1;32m      7\u001b[0m \u001b[0mdt\u001b[0m\u001b[0;34m.\u001b[0m\u001b[0mdate\u001b[0m\u001b[0;34m(\u001b[0m\u001b[0;34m)\u001b[0m\u001b[0;34m\u001b[0m\u001b[0;34m\u001b[0m\u001b[0m\n\u001b[1;32m      8\u001b[0m \u001b[0;31m# datetime.datetime(2010, 1, 1, 0, 0, tzinfo=<DstTzInfo 'Asia/Tokyo' JST+9:00:00 STD>)\u001b[0m\u001b[0;34m\u001b[0m\u001b[0;34m\u001b[0m\u001b[0;34m\u001b[0m\u001b[0m\n",
      "\u001b[0;32m/usr/local/lib/python3.8/dist-packages/pytz/__init__.py\u001b[0m in \u001b[0;36mlocalize\u001b[0;34m(self, dt, is_dst)\u001b[0m\n\u001b[1;32m    236\u001b[0m         \u001b[0;34m'''Convert naive time to local time'''\u001b[0m\u001b[0;34m\u001b[0m\u001b[0;34m\u001b[0m\u001b[0m\n\u001b[1;32m    237\u001b[0m         \u001b[0;32mif\u001b[0m \u001b[0mdt\u001b[0m\u001b[0;34m.\u001b[0m\u001b[0mtzinfo\u001b[0m \u001b[0;32mis\u001b[0m \u001b[0;32mnot\u001b[0m \u001b[0;32mNone\u001b[0m\u001b[0;34m:\u001b[0m\u001b[0;34m\u001b[0m\u001b[0;34m\u001b[0m\u001b[0m\n\u001b[0;32m--> 238\u001b[0;31m             \u001b[0;32mraise\u001b[0m \u001b[0mValueError\u001b[0m\u001b[0;34m(\u001b[0m\u001b[0;34m'Not naive datetime (tzinfo is already set)'\u001b[0m\u001b[0;34m)\u001b[0m\u001b[0;34m\u001b[0m\u001b[0;34m\u001b[0m\u001b[0m\n\u001b[0m\u001b[1;32m    239\u001b[0m         \u001b[0;32mreturn\u001b[0m \u001b[0mdt\u001b[0m\u001b[0;34m.\u001b[0m\u001b[0mreplace\u001b[0m\u001b[0;34m(\u001b[0m\u001b[0mtzinfo\u001b[0m\u001b[0;34m=\u001b[0m\u001b[0mself\u001b[0m\u001b[0;34m)\u001b[0m\u001b[0;34m\u001b[0m\u001b[0;34m\u001b[0m\u001b[0m\n\u001b[1;32m    240\u001b[0m \u001b[0;34m\u001b[0m\u001b[0m\n",
      "\u001b[0;31mValueError\u001b[0m: Not naive datetime (tzinfo is already set)"
     ]
    }
   ],
   "source": [
    "import datetime\n",
    "import pytz\n",
    "\n",
    "tokyo = pytz.timezone(\"Asia/Tokyo\")\n",
    "dt = tokyo.localize(datetime.datetime(2010, 1, 1))\n",
    "dt = pytz.timezone(\"UTC\").localize(dt)\n",
    "dt.date()\n",
    "# datetime.datetime(2010, 1, 1, 0, 0, tzinfo=<DstTzInfo 'Asia/Tokyo' JST+9:00:00 STD>)"
   ]
  },
  {
   "cell_type": "code",
   "execution_count": 268,
   "metadata": {},
   "outputs": [
    {
     "data": {
      "text/plain": [
       "'Test'"
      ]
     },
     "execution_count": 268,
     "metadata": {},
     "output_type": "execute_result"
    }
   ],
   "source": [
    "\"test\".title()"
   ]
  }
 ],
 "metadata": {
  "kernelspec": {
   "display_name": "Python 3",
   "language": "python",
   "name": "python3"
  },
  "language_info": {
   "codemirror_mode": {
    "name": "ipython",
    "version": 3
   },
   "file_extension": ".py",
   "mimetype": "text/x-python",
   "name": "python",
   "nbconvert_exporter": "python",
   "pygments_lexer": "ipython3",
   "version": "3.8.0"
  }
 },
 "nbformat": 4,
 "nbformat_minor": 4
}
