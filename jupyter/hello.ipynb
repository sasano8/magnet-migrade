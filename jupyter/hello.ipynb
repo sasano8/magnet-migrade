{
 "cells": [
  {
   "cell_type": "markdown",
   "metadata": {},
   "source": [
    "# hello magnet jupyter\n",
    "アプリケーションを開発する上で、jupyter上で実行するためのサンプルコードを紹介します。\n",
    "\n",
    "# 注意\n",
    "- 本jupyterファイルはサンプル紹介のため、個人の検証用ファイルは別途作成してください。\n",
    "- 検証のため、セキュリティ突破やpandasで利用しやすくするためのユーティリティを紹介していますが、あくまで検証用コードとして利用してください。"
   ]
  },
  {
   "cell_type": "code",
   "execution_count": 3,
   "metadata": {},
   "outputs": [
    {
     "name": "stderr",
     "output_type": "stream",
     "text": [
      "INFO: 2020-10-19 14:49:44 font_manager _rebuild 1423: Generating new fontManager, this may take some time...\n"
     ]
    },
    {
     "name": "stdout",
     "output_type": "stream",
     "text": [
      "Pretty printing has been turned ON\n"
     ]
    },
    {
     "data": {
      "text/html": [
       "<div>\n",
       "<style scoped>\n",
       "    .dataframe tbody tr th:only-of-type {\n",
       "        vertical-align: middle;\n",
       "    }\n",
       "\n",
       "    .dataframe tbody tr th {\n",
       "        vertical-align: top;\n",
       "    }\n",
       "\n",
       "    .dataframe thead th {\n",
       "        text-align: right;\n",
       "    }\n",
       "</style>\n",
       "<table border=\"1\" class=\"dataframe\">\n",
       "  <thead>\n",
       "    <tr style=\"text-align: right;\">\n",
       "      <th></th>\n",
       "      <th>0</th>\n",
       "      <th>1</th>\n",
       "    </tr>\n",
       "  </thead>\n",
       "  <tbody>\n",
       "    <tr>\n",
       "      <th>0</th>\n",
       "      <td>bob</td>\n",
       "      <td>name</td>\n",
       "    </tr>\n",
       "  </tbody>\n",
       "</table>\n",
       "</div>"
      ],
      "text/plain": [
       "     0     1\n",
       "0  bob  name"
      ]
     },
     "execution_count": 3,
     "metadata": {},
     "output_type": "execute_result"
    }
   ],
   "source": [
    "from magnet import get_db, Linq\n",
    "import pandas\n",
    "import matplotlib.pyplot as plt\n",
    "from pydantic import parse_obj_as\n",
    "from pprint import pprint\n",
    "\n",
    "# 出力を読みやすい形に整形します\n",
    "%pprint\n",
    "\n",
    "# jupyterは最終行を戻り値として、Outに出力する仕様を持っている\n",
    "pandas.DataFrame([{\"name\", \"bob\"}])"
   ]
  },
  {
   "cell_type": "code",
   "execution_count": 138,
   "metadata": {},
   "outputs": [],
   "source": [
    "# 以下のような場合は、出力されない\n",
    "for x in [1, 2]:\n",
    "    x"
   ]
  },
  {
   "cell_type": "code",
   "execution_count": 139,
   "metadata": {},
   "outputs": [],
   "source": [
    "# sqlalchemyをpydanticを経由して辞書に変換する\n",
    "# pydanticクラスを指定しない場合、sqlalchemyクラスが戻されます\n",
    "# sqlalchemyのモデルをそのまま利用してもいいですが、_sa_instance_stateという状態管理用の属性があることに注意してください\n",
    "def get_data(crud_class, pydantic_class):\n",
    "    for db in get_db():\n",
    "        sqlalchemy_table = crud_class(db=db)\n",
    "        for item in sqlalchemy_table.index():\n",
    "            yield parse_obj_as(pydantic_class, item)"
   ]
  },
  {
   "cell_type": "code",
   "execution_count": 143,
   "metadata": {},
   "outputs": [
    {
     "data": {
      "text/html": [
       "<div>\n",
       "<style scoped>\n",
       "    .dataframe tbody tr th:only-of-type {\n",
       "        vertical-align: middle;\n",
       "    }\n",
       "\n",
       "    .dataframe tbody tr th {\n",
       "        vertical-align: top;\n",
       "    }\n",
       "\n",
       "    .dataframe thead th {\n",
       "        text-align: right;\n",
       "    }\n",
       "</style>\n",
       "<table border=\"1\" class=\"dataframe\">\n",
       "  <thead>\n",
       "    <tr style=\"text-align: right;\">\n",
       "      <th></th>\n",
       "      <th>id</th>\n",
       "      <th>email</th>\n",
       "      <th>username</th>\n",
       "      <th>full_name</th>\n",
       "      <th>disabled</th>\n",
       "      <th>is_active</th>\n",
       "      <th>items</th>\n",
       "    </tr>\n",
       "  </thead>\n",
       "  <tbody>\n",
       "    <tr>\n",
       "      <th>0</th>\n",
       "      <td>1</td>\n",
       "      <td>johndoe@example.com</td>\n",
       "      <td>johndoe@example.com</td>\n",
       "      <td>None</td>\n",
       "      <td>False</td>\n",
       "      <td>True</td>\n",
       "      <td>[]</td>\n",
       "    </tr>\n",
       "    <tr>\n",
       "      <th>1</th>\n",
       "      <td>2</td>\n",
       "      <td>example@example.com</td>\n",
       "      <td>example@example.com</td>\n",
       "      <td>None</td>\n",
       "      <td>False</td>\n",
       "      <td>True</td>\n",
       "      <td>[]</td>\n",
       "    </tr>\n",
       "    <tr>\n",
       "      <th>2</th>\n",
       "      <td>3</td>\n",
       "      <td>string</td>\n",
       "      <td>string</td>\n",
       "      <td>None</td>\n",
       "      <td>False</td>\n",
       "      <td>True</td>\n",
       "      <td>[]</td>\n",
       "    </tr>\n",
       "    <tr>\n",
       "      <th>3</th>\n",
       "      <td>4</td>\n",
       "      <td>mytest@test.com</td>\n",
       "      <td>mytest@test.com</td>\n",
       "      <td>None</td>\n",
       "      <td>False</td>\n",
       "      <td>True</td>\n",
       "      <td>[]</td>\n",
       "    </tr>\n",
       "    <tr>\n",
       "      <th>4</th>\n",
       "      <td>5</td>\n",
       "      <td>mytest2@test.com</td>\n",
       "      <td>mytest2@test.com</td>\n",
       "      <td>None</td>\n",
       "      <td>False</td>\n",
       "      <td>True</td>\n",
       "      <td>[]</td>\n",
       "    </tr>\n",
       "  </tbody>\n",
       "</table>\n",
       "</div>"
      ],
      "text/plain": [
       "   id                email             username full_name  disabled  \\\n",
       "0   1  johndoe@example.com  johndoe@example.com      None     False   \n",
       "1   2  example@example.com  example@example.com      None     False   \n",
       "2   3               string               string      None     False   \n",
       "3   4      mytest@test.com      mytest@test.com      None     False   \n",
       "4   5     mytest2@test.com     mytest2@test.com      None     False   \n",
       "\n",
       "   is_active items  \n",
       "0       True    []  \n",
       "1       True    []  \n",
       "2       True    []  \n",
       "3       True    []  \n",
       "4       True    []  "
      ]
     },
     "execution_count": 143,
     "metadata": {},
     "output_type": "execute_result"
    }
   ],
   "source": [
    "from magnet.user import crud, schemas\n",
    "pandas.DataFrame(get_data(crud.User, schemas.User))\n",
    "# pandas.DataFrame(get_data(crud.User, None))\n",
    "\n"
   ]
  },
  {
   "cell_type": "code",
   "execution_count": 4,
   "metadata": {},
   "outputs": [
    {
     "data": {
      "image/png": "[encoded data removed]",
      "text/plain": [
       "<Figure size 432x288 with 1 Axes>"
      ]
     },
     "metadata": {
      "needs_background": "light"
     },
     "output_type": "display_data"
    }
   ],
   "source": [
    "# matplotlib\n",
    "price = [100, 250, 380, 500, 700]\n",
    "number = [1, 2, 3, 4, 5]\n",
    "\n",
    "plt.plot(price, number)\n",
    "plt.title(\"price / number\")\n",
    "plt.xlabel(\"price\")\n",
    "plt.ylabel(\"number\")\n",
    "\n",
    "# 表示する\n",
    "plt.show()"
   ]
  }
 ],
 "metadata": {
  "kernelspec": {
   "display_name": "Python 3",
   "language": "python",
   "name": "python3"
  },
  "language_info": {
   "codemirror_mode": {
    "name": "ipython",
    "version": 3
   },
   "file_extension": ".py",
   "mimetype": "text/x-python",
   "name": "python",
   "nbconvert_exporter": "python",
   "pygments_lexer": "ipython3",
   "version": "3.8.0"
  }
 },
 "nbformat": 4,
 "nbformat_minor": 4
}
