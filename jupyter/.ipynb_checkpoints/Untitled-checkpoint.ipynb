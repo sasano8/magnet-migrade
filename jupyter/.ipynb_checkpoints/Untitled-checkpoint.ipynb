{
 "cells": [
  {
   "cell_type": "code",
   "execution_count": 68,
   "metadata": {},
   "outputs": [
    {
     "name": "stdout",
     "output_type": "stream",
     "text": [
      "Requirement already satisfied: pydantic in /usr/local/lib/python3.8/dist-packages (1.6.1)\n",
      "\u001b[33mWARNING: You are using pip version 20.2.2; however, version 20.2.4 is available.\n",
      "You should consider upgrading via the '/usr/bin/python3 -m pip install --upgrade pip' command.\u001b[0m\n"
     ]
    }
   ],
   "source": [
    "!pip install pydantic"
   ]
  },
  {
   "cell_type": "code",
   "execution_count": 20,
   "metadata": {
    "scrolled": true
   },
   "outputs": [
    {
     "name": "stdout",
     "output_type": "stream",
     "text": [
      "UTC\n"
     ]
    }
   ],
   "source": [
    "from tzlocal import get_localzone # $ pip install tzlocal\n",
    "\n",
    "# get local timezone    \n",
    "local_tz = get_localzone()\n",
    "\n",
    "print(local_tz)"
   ]
  },
  {
   "cell_type": "code",
   "execution_count": 168,
   "metadata": {},
   "outputs": [
    {
     "name": "stdout",
     "output_type": "stream",
     "text": [
      "None\n",
      "{'age': 'a', 'parent': ''}\n",
      "{'name': <class 'str'>, 'age': typing.Union[int, str], 'parent': <class 'str'>}\n"
     ]
    }
   ],
   "source": [
    "from typing import Union\n",
    "\n",
    "def func(name: str, /, *, age: Union[int, str] = \"a\", parent: str = \"\"):\n",
    "    print(name)\n",
    "\n",
    "# func.__defaults__ = (\"bob\",)  # デフォルトを変更できる\n",
    "func.__kwdefaults__\n",
    "\n",
    "print(func.__defaults__)\n",
    "print(func.__kwdefaults__)\n",
    "print(func.__annotations__)\n"
   ]
  },
  {
   "cell_type": "code",
   "execution_count": 172,
   "metadata": {},
   "outputs": [
    {
     "name": "stdout",
     "output_type": "stream",
     "text": [
      "def overload(*args, name, age):\n",
      "  if len(args) > 1: Exception()\n",
      "  return args[0] if len(args) else model(name=name,age=age,)\n",
      "\n",
      "name='a' age=20\n"
     ]
    }
   ],
   "source": [
    "from pydantic import BaseModel\n",
    "\n",
    "class Sample(BaseModel):\n",
    "    name: str = \"bob\"\n",
    "    age: int = 20\n",
    "\n",
    "        \n",
    "\n",
    "def create_func(model: BaseModel):\n",
    "    \n",
    "    __annotations__ = {}\n",
    "    kwdefaults = {}\n",
    "    \n",
    "    fields_required = []\n",
    "    fields_non_required = []\n",
    "    \n",
    "    # sort required first\n",
    "    for item in model.__fields__.values():\n",
    "        if item.required:\n",
    "            fields_required.append(item)\n",
    "        else:\n",
    "            fields_non_required.append(item)\n",
    "    \n",
    "    fields = fields_required\n",
    "    fields += fields_non_required\n",
    "    \n",
    "    for item in fields:\n",
    "        __annotations__[item.name] = item.type_\n",
    "        if item.required:\n",
    "            kwdefaults[item.name] = item.default\n",
    "    \n",
    "    # kwdefaults = tuple(kwdefaults)\n",
    "    codes = []\n",
    "    codes.append(\"def overload(*args\")\n",
    "    \n",
    "    for item in fields:\n",
    "        codes.append(f\", {item.name} = None\")\n",
    "    \n",
    "    codes.append(\"):\\n  if len(args) > 1: Exception()\")\n",
    "    codes.append(\"\\n  return args[0] if len(args) else model(\")\n",
    "    \n",
    "    for item in fields:\n",
    "        codes.append(f\"{item.name}={item.name},\")\n",
    "\n",
    "    codes.append(\")\")\n",
    "    codes.append(\"\\n\")\n",
    "    code = \"\".join(codes)\n",
    "    print(code)\n",
    "    namespace = {\"model\": model}\n",
    "    \n",
    "    exec(code, namespace, namespace)\n",
    "    func = eval(\"overload\", namespace, namespace)\n",
    "    func.__annotations__ = __annotations__\n",
    "    func.__kwdefaults__ = kwdefaults\n",
    "    return func\n",
    "\n",
    "    \n",
    "func = create_func(Sample)\n",
    "\n",
    "# print(func())\n",
    "print(func(name=\"a\", age=20))\n",
    "\n",
    "\n",
    "def func(model):\n",
    "    if model:\n",
    "        return model\n",
    "    else:\n",
    "        return mymodel(\n",
    "            name=name,\n",
    "            age=age\n",
    "        )\n",
    "    "
   ]
  }
 ],
 "metadata": {
  "kernelspec": {
   "display_name": "Python 3",
   "language": "python",
   "name": "python3"
  },
  "language_info": {
   "codemirror_mode": {
    "name": "ipython",
    "version": 3
   },
   "file_extension": ".py",
   "mimetype": "text/x-python",
   "name": "python",
   "nbconvert_exporter": "python",
   "pygments_lexer": "ipython3",
   "version": "3.8.0"
  }
 },
 "nbformat": 4,
 "nbformat_minor": 4
}
